{
 "cells": [
  {
   "cell_type": "code",
   "execution_count": 145,
   "metadata": {},
   "outputs": [
    {
     "name": "stdout",
     "output_type": "stream",
     "text": [
      "[[ 1  4  9]\n",
      " [16 25 36]\n",
      " [49 64 81]]\n",
      "[30 36 42]\n",
      "[[ 1  4  9]\n",
      " [ 4 10 18]\n",
      " [ 7 16 27]]\n",
      "[[ 2  4  6]\n",
      " [ 5  7  9]\n",
      " [ 8 10 12]]\n",
      "[[0 0 0]\n",
      " [3 3 3]\n",
      " [6 6 6]]\n",
      "[[ 0  0  0]\n",
      " [-3 -3 -3]\n",
      " [-6 -6 -6]]\n",
      "[[1.         1.         1.        ]\n",
      " [0.25       0.4        0.5       ]\n",
      " [0.14285714 0.25       0.33333333]]\n",
      "[[1.  1.  1. ]\n",
      " [4.  2.5 2. ]\n",
      " [7.  4.  3. ]]\n",
      "[ 2.71828183  7.3890561  20.08553692]\n",
      "[[0.         0.69314718 1.09861229]\n",
      " [1.38629436 1.60943791 1.79175947]\n",
      " [1.94591015 2.07944154 2.19722458]]\n",
      "[1.         1.41421356 1.73205081]\n",
      "[0.84147098 0.90929743 0.14112001]\n",
      "[ 0.54030231 -0.41614684 -0.9899925 ]\n"
     ]
    }
   ],
   "source": [
    "import numpy as np\n",
    "\n",
    "my1dArray = np.array([1,2,3])\n",
    "\n",
    "my2dArray = np.array([[1,2,3], [4,5,6], [7,8,9]])\n",
    "\n",
    "# +|-|*|/ is component-wise addition|subtraction|multiplication|division, @ is matrix multiplication\n",
    "print(my2dArray*my2dArray)\n",
    "print(my1dArray@my2dArray)\n",
    "print(my1dArray*my2dArray)\n",
    "print(my2dArray+my1dArray)\n",
    "print(my2dArray-my1dArray)\n",
    "print(my1dArray-my2dArray)\n",
    "print(my1dArray/my2dArray)\n",
    "print(my2dArray/my1dArray)\n",
    "\n",
    "# can do exponential, logarithm, squareroot, sine, cosine\n",
    "print(np.exp(my1dArray))\n",
    "print(np.log(my2dArray))\n",
    "print(np.sqrt(my1dArray))\n",
    "print(np.sin(my1dArray))\n",
    "print(np.cos(my1dArray))\n"
   ]
  },
  {
   "cell_type": "code",
   "execution_count": 129,
   "metadata": {},
   "outputs": [
    {
     "name": "stdout",
     "output_type": "stream",
     "text": [
      "<U21\n",
      "<U66\n",
      "[['1' 'a' '2']\n",
      " ['3' '4.2' 'zzzzzzzzzz']]\n",
      "[[0 0 0]\n",
      " [0 0 0]]\n",
      "[[1. 1. 1. 1. 1.]]\n",
      "[[8 8]\n",
      " [8 8]\n",
      " [8 8]]\n",
      "[[10 10 10 10]]\n"
     ]
    },
    {
     "data": {
      "text/plain": [
       "dtype('int64')"
      ]
     },
     "execution_count": 129,
     "metadata": {},
     "output_type": "execute_result"
    }
   ],
   "source": [
    "import numpy as np\n",
    "\n",
    "# creating arrays with float numbers of varying precision\n",
    "my2dArrayFloat = np.array([[1,2,3], [4,5,6], [7,8,9]], dtype='float')\n",
    "my2dArrayFloat32 = np.array([[1,2,3], [4,5,6], [7,8,9]], dtype=np.float32)\n",
    "\n",
    "# arrays can have mixed data types, combining into one unicode data type\n",
    "charArray = np.array([[1,'a', 2], [3, 4, 'zzz']])\n",
    "print(charArray.dtype)\n",
    "# datatype will accommodate for the maximum length of character/float \n",
    "charArray = np.array([[1,'a', 2], [3, 4, 'zzzzzzzzzzzzzzzzzzzzzzzzzzzzzzzzzzzzzzzzzzzzzzzzzzzzzzzzzzzzzzzzzz']])\n",
    "print(charArray.dtype)\n",
    "# you can assign the data type to create a character limit inside the array\n",
    "charArray = np.array([[1,'a', 2], [3, 4.2, 'zzzzzzzzzzzzzzzzzzzzzzzzzzzzzzzzzzzzzzzzzzzzzzzzzzzzzzzzzzzzzzzzzz']], dtype='U10')\n",
    "print(charArray)\n",
    "\n",
    "# can create arrays of all one number\n",
    "array0s = np.zeros((2,3), dtype=int)\n",
    "print(array0s)\n",
    "array1s = np.ones((1,5))\n",
    "print(array1s)\n",
    "array8s = 8 * np.ones((3,2), dtype=int)\n",
    "print(array8s)\n",
    "array10s = np.full((1,4), 10, dtype=int)\n",
    "print(array10s)\n",
    "array10s.dtype"
   ]
  },
  {
   "cell_type": "code",
   "execution_count": 128,
   "metadata": {},
   "outputs": [
    {
     "name": "stdout",
     "output_type": "stream",
     "text": [
      "[10 11 12 13 14 15 16 17 18 19 20 21 22 23 24]\n",
      "[10 13 16 19 22]\n",
      "[10.    11.875 13.75  15.625 17.5   19.375 21.25  23.125 25.   ]\n",
      "[[1. 0. 0.]\n",
      " [0. 1. 0.]\n",
      " [0. 0. 1.]]\n",
      "[[0.2161899  0.403765   0.66649505]\n",
      " [0.08053939 0.14676544 0.3614828 ]]\n",
      "[[2 2 2]\n",
      " [2 3 1]]\n",
      "2\n",
      "(2, 3)\n",
      "6\n",
      "[[5 6 3]\n",
      " [2 5 1]\n",
      " [4 4 4]]\n"
     ]
    },
    {
     "data": {
      "text/plain": [
       "array([5, 5, 4])"
      ]
     },
     "execution_count": 128,
     "metadata": {},
     "output_type": "execute_result"
    }
   ],
   "source": [
    "import numpy as np\n",
    "\n",
    "# create array of evenly spaced values\n",
    "start = 10\n",
    "end = 25\n",
    "step = 3\n",
    "\n",
    "evensteps1 = np.arange(start, end)\n",
    "print(evensteps1)\n",
    "evensteps = np.arange(start, end, step)\n",
    "print(evensteps)\n",
    "\n",
    "# create evenly spaced array between start and end with number of entrys equal to num\n",
    "linsteps = np.linspace(start, end, num=9)\n",
    "print(linsteps)\n",
    "\n",
    "# create identity matrix\n",
    "identity = np.eye(3)\n",
    "print(identity)\n",
    "\n",
    "# create random matrix\n",
    "random23 = np.random.random((2,3))\n",
    "print(random23)\n",
    "randomint23 = np.random.randint(1, 4, (2,3))\n",
    "print(randomint23)\n",
    "\n",
    "print(random23.ndim)\n",
    "print(random23.shape)\n",
    "print(random23.size)\n",
    "\n",
    "# diagonal array\n",
    "b = np.array([[5,6,3],[2,5,1], [4,4,4]])\n",
    "print(b)\n",
    "np.diag((b))\n"
   ]
  },
  {
   "cell_type": "code",
   "execution_count": 126,
   "metadata": {},
   "outputs": [
    {
     "name": "stdout",
     "output_type": "stream",
     "text": [
      "0\n",
      "[3 1]\n",
      "[3 0]\n",
      "[2 1 0]\n"
     ]
    }
   ],
   "source": [
    "import numpy as np\n",
    "\n",
    "a = np.array([[2,3,1],[5,0,7]])\n",
    "\n",
    "# print an element of the array\n",
    "print(a[1,1])\n",
    "# print part of a row of the array\n",
    "print(a[0,1:3])\n",
    "# print a column of the array\n",
    "print(a[0:2,1])\n",
    "\n",
    "# elements of array that are smaller than 3\n",
    "print(a[a<3])"
   ]
  },
  {
   "cell_type": "code",
   "execution_count": 153,
   "metadata": {},
   "outputs": [
    {
     "name": "stdout",
     "output_type": "stream",
     "text": [
      "[0 2 4 5 3 7 8 9 5 1]\n",
      "[ 0  2  4 -5 -3 -7  8 -9 -5 -1]\n"
     ]
    }
   ],
   "source": [
    "import numpy as np\n",
    "\n",
    "arr = np.array([0,2,4,5,3,7,8,9,5,1])\n",
    "print(arr)\n",
    "\n",
    "arr[arr%2==1] = -arr[arr%2==1]\n",
    "print(arr)"
   ]
  },
  {
   "cell_type": "code",
   "execution_count": 206,
   "metadata": {},
   "outputs": [
    {
     "name": "stdout",
     "output_type": "stream",
     "text": [
      "[[5 6 6]\n",
      " [7 0 9]]\n",
      "33\n",
      "33\n",
      "9\n",
      "[6 9]\n",
      "[7 6 9]\n",
      "[6.  3.  7.5]\n",
      "[5.66666667 5.33333333]\n",
      "[0.47140452 3.8586123 ]\n"
     ]
    }
   ],
   "source": [
    "import numpy as np\n",
    "\n",
    "# numpy statistics\n",
    "\n",
    "A = np.random.randint(0, 10, (2,3))\n",
    "print(A)\n",
    "\n",
    "# different ways to sum the array\n",
    "summ1 = A.sum()\n",
    "summ2 = np.sum(A)\n",
    "print(summ1)\n",
    "print(summ2)\n",
    "\n",
    "# find the maximum of a row or column, or max for each row or column using axis option\n",
    "maximum = A.max()\n",
    "print(maximum)\n",
    "max_row = A[1].max()\n",
    "max_row = A.max(axis=1)\n",
    "print(max_row)\n",
    "max_col = A[0:,1].max()\n",
    "max_col = A.max(axis=0)\n",
    "print(max_col)\n",
    "\n",
    "# can use axis to find the mean of each row/column\n",
    "mean1 = np.mean(A, axis=0)\n",
    "mean2 = np.mean(A, axis=1)\n",
    "print(mean1)\n",
    "print(mean2)\n",
    "\n",
    "# same for standard deviation\n",
    "std1 = np.std(A, axis = 1)\n",
    "print(std1)"
   ]
  },
  {
   "cell_type": "code",
   "execution_count": 271,
   "metadata": {},
   "outputs": [
    {
     "name": "stdout",
     "output_type": "stream",
     "text": [
      "4.0\n",
      "10.0\n",
      "10.770329614269007\n",
      "10.770329614269007\n"
     ]
    }
   ],
   "source": [
    "from numpy import linalg as la\n",
    "import random \n",
    "\n",
    "B = np.array([0,0])\n",
    "C = np.array([0,random.randint(1,10)])\n",
    "D = np.array([random.randint(1,10),0])\n",
    "\n",
    "BC = la.norm(B-C)\n",
    "BD = la.norm(B-D)\n",
    "CD = la.norm(C-D)\n",
    "\n",
    "print(BC)\n",
    "print(BD)\n",
    "print(CD)\n",
    "print((BC**2 + BD**2)**(1/2))\n"
   ]
  },
  {
   "cell_type": "code",
   "execution_count": 217,
   "metadata": {},
   "outputs": [
    {
     "name": "stdout",
     "output_type": "stream",
     "text": [
      "[[1 2 5]\n",
      " [7 1 3]]\n",
      "[[1 7]\n",
      " [2 1]\n",
      " [5 3]]\n",
      "[[1 2]\n",
      " [5 7]\n",
      " [1 3]]\n",
      "[1 2 5 7 1 3]\n"
     ]
    }
   ],
   "source": [
    "import numpy as np\n",
    "\n",
    "a = np.array([[1,2,5],[7,1,3]])\n",
    "print(a)\n",
    "\n",
    "# Transpose, reshape and reshape to row\n",
    "print(a.T)\n",
    "print(a.reshape(3,2))\n",
    "print(a.reshape(6))\n"
   ]
  },
  {
   "cell_type": "code",
   "execution_count": 277,
   "metadata": {},
   "outputs": [
    {
     "name": "stdout",
     "output_type": "stream",
     "text": [
      "[[2 5 1 2 5 2]\n",
      " [7 4 7 1 3 1]]\n",
      "[[1 7]\n",
      " [2 1]\n",
      " [5 3]\n",
      " [2 7]\n",
      " [5 4]\n",
      " [2 1]]\n",
      "[[2 5 1 2 5 2]\n",
      " [7 4 7 1 3 1]]\n",
      "[[1 7]\n",
      " [2 1]\n",
      " [5 3]\n",
      " [2 7]\n",
      " [5 4]\n",
      " [2 1]]\n"
     ]
    }
   ],
   "source": [
    "import numpy as np\n",
    "\n",
    "# stack arrays by rows and columns, or use concatenate which works in more than 2 dimensions\n",
    "\n",
    "a = np.array([[1,2,5],[7,1,3]])\n",
    "b = np.array([[2,5],[7,4]])\n",
    "c = np.array([[2],[1]])\n",
    "\n",
    "print(np.hstack([b,a,c]))\n",
    "print(np.vstack([a.T,b.T,c.T]))\n",
    "print(np.concatenate((b,a,c), axis=1))\n",
    "print(np.concatenate((a.T,b.T,c.T), axis=0))\n"
   ]
  },
  {
   "cell_type": "code",
   "execution_count": 336,
   "metadata": {},
   "outputs": [
    {
     "name": "stdout",
     "output_type": "stream",
     "text": [
      "[[1 2 5]\n",
      " [7 1 2]]\n",
      "[[1 2 5]\n",
      " [7 1 2]]\n",
      "[[2 5]\n",
      " [7 4]]\n",
      "[[1. 2. 5.]\n",
      " [7. 1. 2.]]\n",
      "[[1. 2. 5.]\n",
      " [7. 1. 2.]]\n",
      "[[1. 2. 5.]\n",
      " [7. 1. 2.]]\n"
     ]
    }
   ],
   "source": [
    "import numpy as np\n",
    "\n",
    "# saving arrays to files\n",
    "\n",
    "a = np.array([[1,2,5],[7,1,2]])\n",
    "b = np.array([[2,5],[7,4]])\n",
    "\n",
    "np.save('arrays/array_a', a)\n",
    "np.savez('arrays/arrays_ab', arr1=a, arr2=b, fmt='%d')\n",
    "np.savetxt(\"arrays/array_a.txt\", a)\n",
    "np.savetxt(\"arrays/array_a2.txt\", a, delimiter=',', fmt='%.2f')\n",
    "np.savetxt(\"arrays/arrays_a3.csv\", a, delimiter=',', fmt='%d')\n",
    "\n",
    "# loading arrays from files\n",
    "\n",
    "Anpy = np.load('arrays/array_a.npy')\n",
    "contents = np.load('arrays/arrays_ab.npz')\n",
    "Anpz = contents[\"arr1\"]\n",
    "Bnpz = contents[\"arr2\"]\n",
    "Atxt = np.loadtxt(\"arrays/array_a.txt\")\n",
    "Atxt2 = np.loadtxt(\"arrays/array_a2.txt\", delimiter=',')\n",
    "Acsv = np.loadtxt(\"arrays/arrays_a3.csv\", delimiter=',')\n",
    "\n",
    "print(Anpy)\n",
    "print(Anpz)\n",
    "print(Bnpz)\n",
    "print(Atxt)\n",
    "print(Atxt2)\n",
    "print(Acsv)"
   ]
  },
  {
   "cell_type": "code",
   "execution_count": 341,
   "metadata": {},
   "outputs": [
    {
     "name": "stdout",
     "output_type": "stream",
     "text": [
      "[['2.0' '2.2']\n",
      " ['5.3' '7.8']\n",
      " ['1.9' '3.0']]\n",
      "[['r1' '2.0' '2.2']\n",
      " ['r2' '5.3' '7.8']\n",
      " ['r3' '1.9' '3.0']]\n",
      "[['c1' 'c2' 'c3']\n",
      " ['r1' '2.0' '2.2']\n",
      " ['r2' '5.3' '7.8']\n",
      " ['r3' '1.9' '3.0']]\n",
      "[['c1' 'c2' 'c3']\n",
      " ['r1' '2.0' '2.2']\n",
      " ['r2' '5.3' '7.8']\n",
      " ['r3' '1.9' '3.0']]\n"
     ]
    }
   ],
   "source": [
    "import numpy as np\n",
    "\n",
    "data = np.array([[1.99, 2.23],[5.30,7.75],[1.89,3.01]])\n",
    "rounded_data = np.around(data,1)\n",
    "str_rounded_data = np.char.mod(\"%.1f\",rounded_data)\n",
    "str_rounded_data = rounded_data.astype(str)\n",
    "print(str_rounded_data)\n",
    "\n",
    "row_header = np.array([['r1'], ['r2'], ['r3']])\n",
    "row_headed_data = np.hstack((row_header,str_rounded_data))\n",
    "print(row_headed_data)\n",
    "\n",
    "column_header = np.array(['c1','c2','c3'])\n",
    "headed_data = np.vstack((column_header, row_headed_data))\n",
    "print(headed_data)\n",
    "\n",
    "      \n",
    "np.savetxt(\"arrays/myfile.csv\", headed_data, delimiter=',', fmt='%s')\n",
    "\n",
    "data_loaded = np.loadtxt(\"arrays/myfile.csv\", delimiter=',', dtype=str)\n",
    "print(data_loaded)"
   ]
  }
 ],
 "metadata": {
  "kernelspec": {
   "display_name": "Python 3",
   "language": "python",
   "name": "python3"
  },
  "language_info": {
   "codemirror_mode": {
    "name": "ipython",
    "version": 3
   },
   "file_extension": ".py",
   "mimetype": "text/x-python",
   "name": "python",
   "nbconvert_exporter": "python",
   "pygments_lexer": "ipython3",
   "version": "3.12.6"
  }
 },
 "nbformat": 4,
 "nbformat_minor": 2
}
