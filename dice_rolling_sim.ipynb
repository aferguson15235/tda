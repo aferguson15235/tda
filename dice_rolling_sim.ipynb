{
 "cells": [
  {
   "cell_type": "code",
   "execution_count": 5,
   "metadata": {},
   "outputs": [
    {
     "name": "stdout",
     "output_type": "stream",
     "text": [
      "5\n",
      "1\n",
      "5\n",
      "4\n",
      "7\n"
     ]
    }
   ],
   "source": [
    "# first import random module to access the randint function\n",
    "import random\n",
    "\n",
    "# choose how many sides the dice should have\n",
    "sides = int(input(\"How many sides do you want your dice to have?\"))\n",
    "\n",
    "# indefinite loop, rolls the dice using randint function and then asks user if they would like to roll again. If no, breaks the loop.\n",
    "while True:\n",
    "    roll = random.randint(1,sides)\n",
    "    print(roll)\n",
    "    again = input(\"Would you like to roll again? (yes/no)\")\n",
    "    if again.lower() == \"no\":\n",
    "        break"
   ]
  }
 ],
 "metadata": {
  "kernelspec": {
   "display_name": "Python 3",
   "language": "python",
   "name": "python3"
  },
  "language_info": {
   "codemirror_mode": {
    "name": "ipython",
    "version": 3
   },
   "file_extension": ".py",
   "mimetype": "text/x-python",
   "name": "python",
   "nbconvert_exporter": "python",
   "pygments_lexer": "ipython3",
   "version": "3.12.6"
  }
 },
 "nbformat": 4,
 "nbformat_minor": 2
}
