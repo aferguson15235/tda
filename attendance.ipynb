{
 "cells": [
  {
   "cell_type": "code",
   "execution_count": 11,
   "metadata": {},
   "outputs": [],
   "source": [
    "import csv\n",
    "\n",
    "with open('student_list.txt', 'r') as student_file:\n",
    "    for student in student_file:\n",
    "        here = input(f\"Is {student} present?\")\n",
    "        attendance = [student.rstrip('\\n'), here]\n",
    "        with open('attendance_list.csv', 'a') as attendance_file:\n",
    "            character_writer = csv.writer(attendance_file, delimiter=',', quotechar='\"', quoting=csv.QUOTE_MINIMAL)\n",
    "            character_writer.writerow(attendance)"
   ]
  }
 ],
 "metadata": {
  "kernelspec": {
   "display_name": "Python 3",
   "language": "python",
   "name": "python3"
  },
  "language_info": {
   "codemirror_mode": {
    "name": "ipython",
    "version": 3
   },
   "file_extension": ".py",
   "mimetype": "text/x-python",
   "name": "python",
   "nbconvert_exporter": "python",
   "pygments_lexer": "ipython3",
   "version": "3.12.6"
  }
 },
 "nbformat": 4,
 "nbformat_minor": 2
}
