{
 "cells": [
  {
   "cell_type": "code",
   "execution_count": 1,
   "metadata": {},
   "outputs": [
    {
     "name": "stdout",
     "output_type": "stream",
     "text": [
      "Please enter a whole number\n",
      "Please enter a whole number\n",
      "Please enter a whole number\n",
      "Too high! Try again!\n",
      "Too high! Try again!\n",
      "Too high! Try again!\n",
      "You got it\n"
     ]
    }
   ],
   "source": [
    "import random\n",
    "\n",
    "number = random.randint(1, 6)\n",
    "\n",
    "while True:\n",
    "    guess = input(\"Guess a number\")\n",
    "    try:\n",
    "        guess = int(guess)\n",
    "    except:\n",
    "        print(\"Please enter a whole number\")\n",
    "        continue\n",
    "    if guess > number:\n",
    "        print(\"Too high! Try again!\")\n",
    "        continue\n",
    "    if guess < number:\n",
    "        print(\"Too low! Try again!\")\n",
    "        continue\n",
    "    break\n",
    "\n",
    "print(\"You got it\")\n",
    "\n",
    "\n"
   ]
  }
 ],
 "metadata": {
  "kernelspec": {
   "display_name": "Python 3",
   "language": "python",
   "name": "python3"
  },
  "language_info": {
   "codemirror_mode": {
    "name": "ipython",
    "version": 3
   },
   "file_extension": ".py",
   "mimetype": "text/x-python",
   "name": "python",
   "nbconvert_exporter": "python",
   "pygments_lexer": "ipython3",
   "version": "3.12.6"
  }
 },
 "nbformat": 4,
 "nbformat_minor": 2
}
