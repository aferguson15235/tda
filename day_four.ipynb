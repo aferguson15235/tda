{
 "cells": [
  {
   "cell_type": "code",
   "execution_count": 51,
   "metadata": {},
   "outputs": [
    {
     "name": "stdout",
     "output_type": "stream",
     "text": [
      "['i', 'd', 'l', 'e']\n",
      "['i', 'd']\n",
      "['i', 'n']\n",
      "['s', 'i', 'n']\n",
      "['s', 'i', 'n', 'e']\n",
      "['s', 'p', 'i', 'n', 'e']\n"
     ]
    },
    {
     "data": {
      "text/plain": [
       "'i'"
      ]
     },
     "execution_count": 51,
     "metadata": {},
     "output_type": "execute_result"
    }
   ],
   "source": [
    "# create a list\n",
    "my_list = ['i','d','l','e']\n",
    "print(my_list)\n",
    "del my_list[2:4]\n",
    "print(my_list)\n",
    "my_list[1] = 'n'\n",
    "print(my_list)\n",
    "new_list = ['s'] + my_list\n",
    "print(new_list)\n",
    "new_list.append('e')\n",
    "print(new_list)\n",
    "new_list.insert(1,'p')\n",
    "print(new_list)\n",
    "\n",
    "import random\n",
    "random.choice(new_list)"
   ]
  },
  {
   "cell_type": "code",
   "execution_count": 63,
   "metadata": {},
   "outputs": [
    {
     "name": "stdout",
     "output_type": "stream",
     "text": [
      "[0, 1, 2, 3, 4]\n",
      "5\n"
     ]
    },
    {
     "data": {
      "text/plain": [
       "6"
      ]
     },
     "execution_count": 63,
     "metadata": {},
     "output_type": "execute_result"
    }
   ],
   "source": [
    "# printing out index\n",
    "final_list = []\n",
    "for j in new_list:\n",
    "    final_list.append(new_list.index(j))\n",
    "print(final_list)\n",
    "print(len(final_list))\n",
    "sum(i if i % 2 == 0 else 0 for i in final_list)"
   ]
  },
  {
   "cell_type": "code",
   "execution_count": 75,
   "metadata": {},
   "outputs": [
    {
     "name": "stdout",
     "output_type": "stream",
     "text": [
      "one\ttwo\tthree\tthree, two, one, "
     ]
    }
   ],
   "source": [
    "my_new_list = ['one', 'two', 'three']\n",
    "my_new_list[-2]\n",
    "for i in my_new_list:\n",
    "    print(i, end='\\t')\n",
    "\n",
    "for k in reversed(my_new_list):\n",
    "    print(k, end=', ')"
   ]
  },
  {
   "cell_type": "code",
   "execution_count": 79,
   "metadata": {},
   "outputs": [
    {
     "name": "stdout",
     "output_type": "stream",
     "text": [
      "The total is 58\n",
      "The average is 5.8\n",
      "The entry 2 is less than average\n",
      "The entry 14 is greater than average\n",
      "The entry 13 is greater than average\n",
      "The entry 23 is greater than average\n",
      "The entry 24 is greater than average\n",
      "The entry 1 is less than average\n",
      "The entry 2 is less than average\n",
      "The entry -4 is less than average\n",
      "The entry -21 is less than average\n",
      "The entry 4 is less than average\n"
     ]
    }
   ],
   "source": [
    "# initialise empty list to store entered numbers\n",
    "number_list = []\n",
    "\n",
    "# ask user to input 10 numbers into the list\n",
    "for i in range(10):\n",
    "    number = int(input(\"Please enter a number\"))\n",
    "    number_list.append(number)\n",
    "\n",
    "# calculate and display the total and average of the numbers\n",
    "total = sum(number_list)\n",
    "avg = total/10\n",
    "\n",
    "print(f\"The total is {total}\")\n",
    "print(f\"The average is {avg}\")\n",
    "\n",
    "# display each number and see if it is greater or less than the average\n",
    "for x in number_list:\n",
    "    if x > avg:\n",
    "        print(f\"The entry {x} is greater than average\")\n",
    "    elif x < avg:\n",
    "        print(f\"The entry {x} is less than average\")\n",
    "    else:\n",
    "        print(f\"The entry {x} is equal to the average\")"
   ]
  },
  {
   "cell_type": "code",
   "execution_count": 99,
   "metadata": {},
   "outputs": [
    {
     "name": "stdout",
     "output_type": "stream",
     "text": [
      "W\n",
      "Hello\n",
      "Hello\n",
      "Hello\n",
      "Cello\n"
     ]
    }
   ],
   "source": [
    "my_string = 'Hello World'\n",
    "print(my_string[6])\n",
    "print(my_string[:5])\n",
    "print(my_string[-11:-6])\n",
    "print(my_string[:-6])\n",
    "print('C' + my_string[1:5])"
   ]
  },
  {
   "cell_type": "code",
   "execution_count": 102,
   "metadata": {},
   "outputs": [
    {
     "data": {
      "text/plain": [
       "19.360000000000003"
      ]
     },
     "execution_count": 102,
     "metadata": {},
     "output_type": "execute_result"
    }
   ],
   "source": [
    "def square(number):\n",
    "    squared_number = number**2\n",
    "    return squared_number\n",
    "\n",
    "square(4.4)"
   ]
  },
  {
   "cell_type": "code",
   "execution_count": 117,
   "metadata": {},
   "outputs": [
    {
     "name": "stdout",
     "output_type": "stream",
     "text": [
      "2.0 kg\n",
      "4.55 kg\n",
      "26.67 °C\n",
      "-40.0 °C\n"
     ]
    }
   ],
   "source": [
    "def convert_to_kilograms(weight):\n",
    "    kilos = weight/2.2\n",
    "    return round(kilos,2)\n",
    "\n",
    "print(f\"{convert_to_kilograms(4.4)} kg\")\n",
    "print(f\"{convert_to_kilograms(10)} kg\")\n",
    "\n",
    "def convert_to_celsius(temp):\n",
    "    celsius = (temp - 32)*(5/9)\n",
    "    return round(celsius,2)\n",
    "\n",
    "print(f\"{convert_to_celsius(80)} \\N{DEGREE SIGN}C\")\n",
    "print(f\"{convert_to_celsius(-40)} \\N{DEGREE SIGN}C\")"
   ]
  }
 ],
 "metadata": {
  "kernelspec": {
   "display_name": "Python 3",
   "language": "python",
   "name": "python3"
  },
  "language_info": {
   "codemirror_mode": {
    "name": "ipython",
    "version": 3
   },
   "file_extension": ".py",
   "mimetype": "text/x-python",
   "name": "python",
   "nbconvert_exporter": "python",
   "pygments_lexer": "ipython3",
   "version": "3.12.6"
  }
 },
 "nbformat": 4,
 "nbformat_minor": 2
}
