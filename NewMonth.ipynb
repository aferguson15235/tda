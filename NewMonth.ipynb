{
 "cells": [
  {
   "cell_type": "code",
   "execution_count": 2,
   "metadata": {},
   "outputs": [
    {
     "name": "stdout",
     "output_type": "stream",
     "text": [
      "Hello World\n"
     ]
    }
   ],
   "source": [
    "print(\"Hello World\")"
   ]
  },
  {
   "cell_type": "code",
   "execution_count": 6,
   "metadata": {},
   "outputs": [
    {
     "name": "stdout",
     "output_type": "stream",
     "text": [
      "15\n"
     ]
    }
   ],
   "source": [
    "## int\n",
    "a = 5\n",
    "b = 10\n",
    "c = a + b\n",
    "print(c)"
   ]
  },
  {
   "cell_type": "code",
   "execution_count": 5,
   "metadata": {},
   "outputs": [
    {
     "data": {
      "text/plain": [
       "'1010'"
      ]
     },
     "execution_count": 5,
     "metadata": {},
     "output_type": "execute_result"
    }
   ],
   "source": [
    "\n",
    "## string\n",
    "'10'+'10'"
   ]
  },
  {
   "cell_type": "code",
   "execution_count": 35,
   "metadata": {},
   "outputs": [
    {
     "name": "stdout",
     "output_type": "stream",
     "text": [
      "3.0\n"
     ]
    }
   ],
   "source": [
    "# floating point inputs - average of 3 numbers\n",
    "number1 = float(input('Please enter a number'))\n",
    "number2 = float(input('Please enter another number'))\n",
    "number3 = float(input('Please enter another number'))\n",
    "average = (number1 + number2 + number3)/3 \n",
    "print(average)"
   ]
  },
  {
   "cell_type": "code",
   "execution_count": 36,
   "metadata": {},
   "outputs": [
    {
     "name": "stdout",
     "output_type": "stream",
     "text": [
      "0\n",
      "1\n",
      "2\n",
      "3\n",
      "4\n",
      "5\n",
      "6\n",
      "7\n",
      "8\n",
      "9\n"
     ]
    }
   ],
   "source": [
    "# definite iteration\n",
    "\n",
    "for i in range(10):\n",
    "    print(i)\n",
    "\n"
   ]
  },
  {
   "cell_type": "code",
   "execution_count": 37,
   "metadata": {},
   "outputs": [
    {
     "name": "stdout",
     "output_type": "stream",
     "text": [
      "Andrew Ferguson\n",
      "Andrew Ferguson\n",
      "Andrew Ferguson\n",
      "Andrew Ferguson\n",
      "Andrew Ferguson\n",
      "Andrew Ferguson\n",
      "Andrew Ferguson\n",
      "Andrew Ferguson\n",
      "Andrew Ferguson\n",
      "Andrew Ferguson\n",
      "Andrew Ferguson\n",
      "Andrew Ferguson\n",
      "Andrew Ferguson\n",
      "Andrew Ferguson\n",
      "Andrew Ferguson\n",
      "Andrew Ferguson\n",
      "Andrew Ferguson\n",
      "Andrew Ferguson\n",
      "Andrew Ferguson\n",
      "Andrew Ferguson\n"
     ]
    }
   ],
   "source": [
    "my_name = \"Andrew Ferguson\"\n",
    "for i in range(20):\n",
    "    print(my_name)"
   ]
  },
  {
   "cell_type": "code",
   "execution_count": 48,
   "metadata": {},
   "outputs": [
    {
     "name": "stdout",
     "output_type": "stream",
     "text": [
      "1 x 5 = 5\n",
      "2 x 5 = 10\n",
      "3 x 5 = 15\n",
      "4 x 5 = 20\n",
      "5 x 5 = 25\n",
      "6 x 5 = 30\n",
      "7 x 5 = 35\n",
      "8 x 5 = 40\n",
      "9 x 5 = 45\n",
      "10 x 5 = 50\n",
      "11 x 5 = 55\n",
      "12 x 5 = 60\n"
     ]
    }
   ],
   "source": [
    "# times table generator\n",
    "# first choose the number you want the times table for\n",
    "number = int(input(\"Please choose an integer\"))\n",
    "\n",
    "# then choose the number of rows of the times table to display\n",
    "n = int(input(\"Please choose how many rows of the times table you would like\"))\n",
    "\n",
    "# generate the times table\n",
    "for i in range(n):\n",
    "    print(f\"{i+1} x {number} = {number*(i+1)}\")\n"
   ]
  },
  {
   "cell_type": "code",
   "execution_count": 51,
   "metadata": {},
   "outputs": [
    {
     "name": "stdout",
     "output_type": "stream",
     "text": [
      "1 x 1 = 1\n",
      "2 x 1 = 2\n",
      "3 x 1 = 3\n",
      "4 x 1 = 4\n",
      "5 x 1 = 5\n",
      "6 x 1 = 6\n",
      "1 x 2 = 2\n",
      "2 x 2 = 4\n",
      "3 x 2 = 6\n",
      "4 x 2 = 8\n",
      "5 x 2 = 10\n",
      "6 x 2 = 12\n",
      "1 x 3 = 3\n",
      "2 x 3 = 6\n",
      "3 x 3 = 9\n",
      "4 x 3 = 12\n",
      "5 x 3 = 15\n",
      "6 x 3 = 18\n",
      "1 x 4 = 4\n",
      "2 x 4 = 8\n",
      "3 x 4 = 12\n",
      "4 x 4 = 16\n",
      "5 x 4 = 20\n",
      "6 x 4 = 24\n"
     ]
    }
   ],
   "source": [
    "# times table generator up to and including the number\n",
    "# first choose the number you want the times table up to for\n",
    "number = int(input(\"Please choose an integer\"))\n",
    "\n",
    "# then choose the number of rows of the times table to display\n",
    "n = int(input(\"Please choose how many rows of the times table you would like\"))\n",
    "\n",
    "# generate the times table\n",
    "for j in range(number):\n",
    "    for i in range(n):\n",
    "        print(f\"{i+1} x {j+1} = {(j+1)*(i+1)}\")"
   ]
  }
 ],
 "metadata": {
  "kernelspec": {
   "display_name": "Python 3",
   "language": "python",
   "name": "python3"
  },
  "language_info": {
   "codemirror_mode": {
    "name": "ipython",
    "version": 3
   },
   "file_extension": ".py",
   "mimetype": "text/x-python",
   "name": "python",
   "nbconvert_exporter": "python",
   "pygments_lexer": "ipython3",
   "version": "3.12.6"
  }
 },
 "nbformat": 4,
 "nbformat_minor": 2
}
