{
 "cells": [
  {
   "cell_type": "code",
   "execution_count": 5,
   "metadata": {},
   "outputs": [
    {
     "name": "stdout",
     "output_type": "stream",
     "text": [
      "The first number, 13, equals the second number, 13\n"
     ]
    }
   ],
   "source": [
    "num1 = int(input(\"Please enter the first number\"))\n",
    "num2 = int(input(\"Please enter the second number\"))\n",
    "\n",
    "if num1 > num2:\n",
    "    print(f\"The first number, {num1}, is greater than the second number, {num2}\")\n",
    "elif num2 > num1:\n",
    "    print(f\"The second number, {num2}, is greater than the first number, {num1}\")\n",
    "else:\n",
    "    print(f\"The first number, {num1}, equals the second number, {num2}\")\n"
   ]
  }
 ],
 "metadata": {
  "kernelspec": {
   "display_name": "Python 3",
   "language": "python",
   "name": "python3"
  },
  "language_info": {
   "codemirror_mode": {
    "name": "ipython",
    "version": 3
   },
   "file_extension": ".py",
   "mimetype": "text/x-python",
   "name": "python",
   "nbconvert_exporter": "python",
   "pygments_lexer": "ipython3",
   "version": "3.12.6"
  }
 },
 "nbformat": 4,
 "nbformat_minor": 2
}
