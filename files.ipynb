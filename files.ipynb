{
 "cells": [
  {
   "cell_type": "code",
   "execution_count": 2,
   "metadata": {},
   "outputs": [
    {
     "name": "stdout",
     "output_type": "stream",
     "text": [
      "red, tomatoes\n",
      "\n",
      "green, watermelon\n",
      "\n",
      "purple, grape\n"
     ]
    }
   ],
   "source": [
    "# read from a txt file\n",
    "\n",
    "with open('test.txt', 'r') as file:\n",
    "    for line in file:\n",
    "        print(line)\n"
   ]
  },
  {
   "cell_type": "code",
   "execution_count": 12,
   "metadata": {},
   "outputs": [
    {
     "name": "stdout",
     "output_type": "stream",
     "text": [
      "red  tomatoes\n",
      "green  watermelon\n",
      "purple  grape\n",
      "banana\n"
     ]
    }
   ],
   "source": [
    "# read from a file and removing commas from a text file\n",
    "\n",
    "with open('test.txt', 'r') as file:\n",
    "    for line in file:\n",
    "        line = line.split(',')\n",
    "        print(line[0],line[1].rstrip('\\n'))\n",
    "\n",
    "txt = \"banana,,,,,ssqqqww.....\"\n",
    "x = txt.rstrip(\",.qsw\")\n",
    "print(x) "
   ]
  },
  {
   "cell_type": "code",
   "execution_count": 14,
   "metadata": {},
   "outputs": [],
   "source": [
    "# write to a file\n",
    "\n",
    "def save_to_file(first_name, surname, age):\n",
    "    with open('new_data.txt', 'w') as f:\n",
    "        line = ','.join([first_name, surname, age])\n",
    "        f.write(line + \"\\n\")\n",
    "        f.close()\n",
    "\n",
    "first_name = input(\"Please enter your first name\")\n",
    "surname = input(\"Please enter your surname\")\n",
    "age = input(\"Please enter your age\")\n",
    "\n",
    "save_to_file(first_name, surname, age)\n"
   ]
  },
  {
   "cell_type": "code",
   "execution_count": 3,
   "metadata": {},
   "outputs": [
    {
     "name": "stdout",
     "output_type": "stream",
     "text": [
      "stop go\n",
      "red green\n"
     ]
    }
   ],
   "source": [
    "# reading from a csv file\n",
    "\n",
    "import csv\n",
    "\n",
    "with open('joke.csv', 'r') as csv_file:\n",
    "    reader = csv.reader(csv_file)\n",
    "    for line in reader:\n",
    "        print(line[0], line[1])"
   ]
  },
  {
   "cell_type": "code",
   "execution_count": 5,
   "metadata": {},
   "outputs": [],
   "source": [
    "# write to a csv file (can be opened by excel)\n",
    "\n",
    "import csv\n",
    "\n",
    "with open('winter.csv', 'a') as csv_file:\n",
    "    character_writer = csv.writer(csv_file, delimiter=',', quotechar='\"', quoting=csv.QUOTE_MINIMAL)\n",
    "    character_writer.writerow(['Liger', 'Sandwich'])\n",
    "    character_writer.writerow(['Love', 'Flight'])\n",
    "    character_writer.writerow(['Rubbish', 'Eggs'])"
   ]
  },
  {
   "cell_type": "code",
   "execution_count": null,
   "metadata": {},
   "outputs": [],
   "source": []
  }
 ],
 "metadata": {
  "kernelspec": {
   "display_name": "Python 3",
   "language": "python",
   "name": "python3"
  },
  "language_info": {
   "codemirror_mode": {
    "name": "ipython",
    "version": 3
   },
   "file_extension": ".py",
   "mimetype": "text/x-python",
   "name": "python",
   "nbconvert_exporter": "python",
   "pygments_lexer": "ipython3",
   "version": "3.12.6"
  }
 },
 "nbformat": 4,
 "nbformat_minor": 2
}
