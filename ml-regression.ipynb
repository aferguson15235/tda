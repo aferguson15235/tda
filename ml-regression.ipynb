{
 "cells": [
  {
   "cell_type": "code",
   "execution_count": 25,
   "metadata": {},
   "outputs": [
    {
     "data": {
      "text/html": [
       "<div>\n",
       "<style scoped>\n",
       "    .dataframe tbody tr th:only-of-type {\n",
       "        vertical-align: middle;\n",
       "    }\n",
       "\n",
       "    .dataframe tbody tr th {\n",
       "        vertical-align: top;\n",
       "    }\n",
       "\n",
       "    .dataframe thead th {\n",
       "        text-align: right;\n",
       "    }\n",
       "</style>\n",
       "<table border=\"1\" class=\"dataframe\">\n",
       "  <thead>\n",
       "    <tr style=\"text-align: right;\">\n",
       "      <th></th>\n",
       "      <th>name</th>\n",
       "      <th>year</th>\n",
       "      <th>selling_price</th>\n",
       "      <th>km_driven</th>\n",
       "      <th>mileage</th>\n",
       "      <th>engine</th>\n",
       "      <th>max_power</th>\n",
       "    </tr>\n",
       "  </thead>\n",
       "  <tbody>\n",
       "    <tr>\n",
       "      <th>0</th>\n",
       "      <td>Maruti Swift Dzire VDI</td>\n",
       "      <td>2014</td>\n",
       "      <td>450000</td>\n",
       "      <td>145500</td>\n",
       "      <td>23.40</td>\n",
       "      <td>1248.0</td>\n",
       "      <td>74.00</td>\n",
       "    </tr>\n",
       "    <tr>\n",
       "      <th>1</th>\n",
       "      <td>Skoda Rapid 1.5 TDI Ambition</td>\n",
       "      <td>2014</td>\n",
       "      <td>370000</td>\n",
       "      <td>120000</td>\n",
       "      <td>21.14</td>\n",
       "      <td>1498.0</td>\n",
       "      <td>103.52</td>\n",
       "    </tr>\n",
       "    <tr>\n",
       "      <th>2</th>\n",
       "      <td>Honda City 2017-2020 EXi</td>\n",
       "      <td>2006</td>\n",
       "      <td>158000</td>\n",
       "      <td>140000</td>\n",
       "      <td>17.70</td>\n",
       "      <td>1497.0</td>\n",
       "      <td>78.00</td>\n",
       "    </tr>\n",
       "    <tr>\n",
       "      <th>3</th>\n",
       "      <td>Hyundai i20 Sportz Diesel</td>\n",
       "      <td>2010</td>\n",
       "      <td>225000</td>\n",
       "      <td>127000</td>\n",
       "      <td>23.00</td>\n",
       "      <td>1396.0</td>\n",
       "      <td>90.00</td>\n",
       "    </tr>\n",
       "    <tr>\n",
       "      <th>4</th>\n",
       "      <td>Maruti Swift VXI BSIII</td>\n",
       "      <td>2007</td>\n",
       "      <td>130000</td>\n",
       "      <td>120000</td>\n",
       "      <td>16.10</td>\n",
       "      <td>1298.0</td>\n",
       "      <td>88.20</td>\n",
       "    </tr>\n",
       "  </tbody>\n",
       "</table>\n",
       "</div>"
      ],
      "text/plain": [
       "                           name  year  selling_price  km_driven  mileage  \\\n",
       "0        Maruti Swift Dzire VDI  2014         450000     145500    23.40   \n",
       "1  Skoda Rapid 1.5 TDI Ambition  2014         370000     120000    21.14   \n",
       "2      Honda City 2017-2020 EXi  2006         158000     140000    17.70   \n",
       "3     Hyundai i20 Sportz Diesel  2010         225000     127000    23.00   \n",
       "4        Maruti Swift VXI BSIII  2007         130000     120000    16.10   \n",
       "\n",
       "   engine  max_power  \n",
       "0  1248.0      74.00  \n",
       "1  1498.0     103.52  \n",
       "2  1497.0      78.00  \n",
       "3  1396.0      90.00  \n",
       "4  1298.0      88.20  "
      ]
     },
     "execution_count": 25,
     "metadata": {},
     "output_type": "execute_result"
    }
   ],
   "source": [
    "# import libraries and load data set\n",
    "import numpy as np\n",
    "import matplotlib.pyplot as plt\n",
    "import pandas as pd\n",
    "from sklearn.linear_model import LinearRegression\n",
    "\n",
    "car_data = pd.read_csv(\"car_data.csv\")\n",
    "\n",
    "car_data.head()\n"
   ]
  },
  {
   "cell_type": "code",
   "execution_count": 65,
   "metadata": {},
   "outputs": [
    {
     "data": {
      "text/plain": [
       "[<matplotlib.lines.Line2D at 0x163a66dade0>]"
      ]
     },
     "execution_count": 65,
     "metadata": {},
     "output_type": "execute_result"
    },
    {
     "data": {
      "image/png": "[encoded data removed]",
      "text/plain": [
       "<Figure size 640x480 with 1 Axes>"
      ]
     },
     "metadata": {},
     "output_type": "display_data"
    }
   ],
   "source": [
    "# select regressor and response variables\n",
    "X = car_data.iloc[:,4].values.reshape(-1,1)\n",
    "Y = car_data.iloc[:,2].values.reshape(-1,1)\n",
    "\n",
    "# create a linear regression model and train the model on the data using the fit function\n",
    "LR = LinearRegression()\n",
    "LR.fit(X, Y)\n",
    "\n",
    "# use the model to predict a new value of Y based on X\n",
    "y_pred = LR.predict(X)\n",
    "\n",
    "# create dataframe to compare the actual value and the predicted value\n",
    "car_data_LR = pd.DataFrame({'Actual': Y.flatten(), 'Predicted': y_pred.flatten()})\n",
    "\n",
    "plt.scatter(X,Y)\n",
    "plt.plot(X, y_pred, color='red')\n"
   ]
  },
  {
   "cell_type": "code",
   "execution_count": 127,
   "metadata": {},
   "outputs": [
    {
     "name": "stdout",
     "output_type": "stream",
     "text": [
      "Predicted: 42.87696\n",
      "Predicted: 42.87319\n",
      "Real Score: 44.02\n",
      "      Actual  Predicted\n",
      "0     100.00  63.035827\n",
      "1      91.67  62.861210\n",
      "2      89.50  62.715757\n",
      "3      86.17  62.662329\n",
      "4      85.21  62.509942\n",
      "...      ...        ...\n",
      "2195   44.03  43.001427\n",
      "2196   44.03  43.409298\n",
      "2197   44.03  43.019434\n",
      "2198   44.02  42.977110\n",
      "2199   44.02  42.876956\n",
      "\n",
      "[2200 rows x 2 columns]\n",
      "      Actual  Predicted\n",
      "0     100.00  63.023735\n",
      "1      91.67  62.849380\n",
      "2      89.50  62.703809\n",
      "3      86.17  62.650281\n",
      "4      85.21  62.499007\n",
      "...      ...        ...\n",
      "2195   44.03  42.997761\n",
      "2196   44.03  43.413892\n",
      "2197   44.03  43.015611\n",
      "2198   44.02  42.973237\n",
      "2199   44.02  42.873187\n",
      "\n",
      "[2200 rows x 2 columns]\n"
     ]
    },
    {
     "name": "stderr",
     "output_type": "stream",
     "text": [
      "c:\\Users\\aferg\\AppData\\Local\\Programs\\Python\\Python312\\Lib\\site-packages\\sklearn\\base.py:493: UserWarning: X does not have valid feature names, but Lasso was fitted with feature names\n",
      "  warnings.warn(\n",
      "c:\\Users\\aferg\\AppData\\Local\\Programs\\Python\\Python312\\Lib\\site-packages\\sklearn\\base.py:493: UserWarning: X does not have valid feature names, but Ridge was fitted with feature names\n",
      "  warnings.warn(\n",
      "C:\\Users\\aferg\\AppData\\Local\\Temp\\ipykernel_324\\3227478131.py:25: DeprecationWarning: Conversion of an array with ndim > 0 to a scalar is deprecated, and will error in future. Ensure you extract a single element from your array before performing this operation. (Deprecated NumPy 1.25.)\n",
      "  print('Predicted: %.5f' % model_lasso_pred)\n",
      "C:\\Users\\aferg\\AppData\\Local\\Temp\\ipykernel_324\\3227478131.py:26: DeprecationWarning: Conversion of an array with ndim > 0 to a scalar is deprecated, and will error in future. Ensure you extract a single element from your array before performing this operation. (Deprecated NumPy 1.25.)\n",
      "  print('Predicted: %.5f' % model_ridge_pred)\n"
     ]
    }
   ],
   "source": [
    "# build a lasso or ridge model\n",
    "from sklearn.linear_model import Lasso, Ridge, RidgeCV\n",
    "from sklearn.model_selection import RepeatedKFold\n",
    "\n",
    "\n",
    "uni_data = pd.read_csv('uni_data.csv')\n",
    "uni_data.head()\n",
    "\n",
    "x = uni_data.iloc[:, 1:9]\n",
    "y = uni_data.iloc[:, 9]\n",
    "\n",
    "# define model objects\n",
    "model_lasso = Lasso(0.01)\n",
    "model_ridge = Ridge(10000)\n",
    "\n",
    "# train the models\n",
    "model_lasso.fit(x,y)\n",
    "model_ridge.fit(x,y)\n",
    "\n",
    "# test the prediction\n",
    "new = uni_data.iloc[2199, 1:9]\n",
    "model_lasso_pred = model_lasso.predict([new])\n",
    "model_ridge_pred = model_ridge.predict([new])\n",
    "\n",
    "print('Predicted: %.5f' % model_lasso_pred)\n",
    "print('Predicted: %.5f' % model_ridge_pred)\n",
    "print('Real Score:', uni_data.iloc[2199,9])\n",
    "\n",
    "model_lasso_pred_2 = model_lasso.predict(x)\n",
    "model_ridge_pred_2 = model_ridge.predict(x)\n",
    "\n",
    "uni_data_lasso = pd.DataFrame({'Actual': y, 'Predicted': model_lasso_pred_2})\n",
    "uni_data_ridge = pd.DataFrame({'Actual': y, 'Predicted': model_ridge_pred_2})\n",
    "\n",
    "print(uni_data_lasso)\n",
    "print(uni_data_ridge)"
   ]
  },
  {
   "cell_type": "code",
   "execution_count": 126,
   "metadata": {},
   "outputs": [
    {
     "name": "stdout",
     "output_type": "stream",
     "text": [
      "99.5\n"
     ]
    }
   ],
   "source": [
    "# tuning alpha/lambda\n",
    "from sklearn.linear_model import Lasso, Ridge, RidgeCV\n",
    "from sklearn.model_selection import RepeatedKFold\n",
    "\n",
    "cv = RepeatedKFold(n_splits=2, n_repeats=2, random_state=1)\n",
    "\n",
    "# define model\n",
    "model = RidgeCV(alphas=np.arange(0.5,100,1), cv = cv, scoring = \"neg_mean_absolute_error\")\n",
    "\n",
    "# train the model\n",
    "model.fit(x,y)\n",
    "\n",
    "# summarise the chosen configuration\n",
    "print(model.alpha_)"
   ]
  }
 ],
 "metadata": {
  "kernelspec": {
   "display_name": "Python 3",
   "language": "python",
   "name": "python3"
  },
  "language_info": {
   "codemirror_mode": {
    "name": "ipython",
    "version": 3
   },
   "file_extension": ".py",
   "mimetype": "text/x-python",
   "name": "python",
   "nbconvert_exporter": "python",
   "pygments_lexer": "ipython3",
   "version": "3.12.6"
  }
 },
 "nbformat": 4,
 "nbformat_minor": 2
}
